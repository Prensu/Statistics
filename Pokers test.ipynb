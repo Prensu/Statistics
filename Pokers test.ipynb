{
 "cells": [
  {
   "cell_type": "code",
   "execution_count": 1,
   "id": "7c964060-ec75-49f3-b71b-bb11a566c0b1",
   "metadata": {},
   "outputs": [
    {
     "name": "stdout",
     "output_type": "stream",
     "text": [
      "+------------------------+---------+\n",
      "| Metric                 |   Value |\n",
      "+========================+=========+\n",
      "| Chi-Square Statistic   | 12.8337 |\n",
      "+------------------------+---------+\n",
      "| Critical Value         | 12.5916 |\n",
      "+------------------------+---------+\n",
      "| Reject Null Hypothesis |  1      |\n",
      "+------------------------+---------+\n",
      "Chi-Square Statistic: 12.83366402116402\n",
      "Critical Value: 12.591587243743977\n",
      "Reject Null Hypothesis: True\n"
     ]
    }
   ],
   "source": [
    "from scipy.stats import chi2\n",
    "from tabulate import tabulate\n",
    "\n",
    "# Observed frequencies\n",
    "observed = [3033, 4932, 1096, 780, 99, 59, 1]\n",
    "\n",
    "# Expected frequencies\n",
    "expected = [3024, 5040, 1080, 720, 90, 45, 1]\n",
    "\n",
    "# Calculate the chi-square statistic\n",
    "chi_square_stat = sum([(obs - exp)**2 / exp for obs, exp in zip(observed, expected)])\n",
    "\n",
    "# Degrees of freedom (number of categories - 1)\n",
    "df = len(observed) - 1\n",
    "\n",
    "# Critical value for alpha = 0.05 and df = 6\n",
    "alpha = 0.05\n",
    "critical_value = chi2.ppf(1 - alpha, df)\n",
    "\n",
    "# Determine whether to reject the null hypothesis\n",
    "reject_null = chi_square_stat > critical_value\n",
    "\n",
    "# Prepare data for tabulated output\n",
    "table = [\n",
    "    [\"Chi-Square Statistic\", chi_square_stat],\n",
    "    [\"Critical Value\", critical_value],\n",
    "    [\"Reject Null Hypothesis\", reject_null]\n",
    "]\n",
    "\n",
    "# Print results in a table format\n",
    "print(tabulate(table, headers=[\"Metric\", \"Value\"], tablefmt=\"grid\"))\n",
    "print(\"Chi-Square Statistic:\", chi_square_stat)\n",
    "print(\"Critical Value:\", critical_value)\n",
    "print(\"Reject Null Hypothesis:\", reject_null)\n"
   ]
  },
  {
   "cell_type": "code",
   "execution_count": null,
   "id": "651f381b-5bc4-460b-aaff-b54569723dd5",
   "metadata": {},
   "outputs": [],
   "source": [
    "xyz=print(tabulate(table, headers=[\"Metric\", \"Value\"], tablefmt=\"grid\"))"
   ]
  },
  {
   "cell_type": "code",
   "execution_count": null,
   "id": "fef9045e-cd55-4261-88ff-686b361acf57",
   "metadata": {},
   "outputs": [],
   "source": [
    "xyz"
   ]
  },
  {
   "cell_type": "code",
   "execution_count": null,
   "id": "5e7abd57-fc4c-449e-a951-1d63131e4d86",
   "metadata": {},
   "outputs": [],
   "source": []
  }
 ],
 "metadata": {
  "kernelspec": {
   "display_name": "Python 3 (ipykernel)",
   "language": "python",
   "name": "python3"
  },
  "language_info": {
   "codemirror_mode": {
    "name": "ipython",
    "version": 3
   },
   "file_extension": ".py",
   "mimetype": "text/x-python",
   "name": "python",
   "nbconvert_exporter": "python",
   "pygments_lexer": "ipython3",
   "version": "3.12.4"
  }
 },
 "nbformat": 4,
 "nbformat_minor": 5
}
